{
 "cells": [
  {
   "cell_type": "code",
   "execution_count": 1,
   "id": "7521a690-c5d6-42ce-94b1-d80816f43e84",
   "metadata": {},
   "outputs": [],
   "source": [
    "import pandas as pd"
   ]
  },
  {
   "cell_type": "code",
   "execution_count": 8,
   "id": "dc06bcad-b283-44fa-96b6-1a01fca87a69",
   "metadata": {},
   "outputs": [],
   "source": [
    "df = pd.read_excel(\"./data/PptoComercial_2024_Pets.xlsx\", engine='openpyxl')"
   ]
  },
  {
   "cell_type": "code",
   "execution_count": 9,
   "id": "82c6458f-c1e9-481b-91d7-a1c2b7f97067",
   "metadata": {},
   "outputs": [
    {
     "data": {
      "text/html": [
       "<div>\n",
       "<style scoped>\n",
       "    .dataframe tbody tr th:only-of-type {\n",
       "        vertical-align: middle;\n",
       "    }\n",
       "\n",
       "    .dataframe tbody tr th {\n",
       "        vertical-align: top;\n",
       "    }\n",
       "\n",
       "    .dataframe thead th {\n",
       "        text-align: right;\n",
       "    }\n",
       "</style>\n",
       "<table border=\"1\" class=\"dataframe\">\n",
       "  <thead>\n",
       "    <tr style=\"text-align: right;\">\n",
       "      <th></th>\n",
       "      <th>UEN</th>\n",
       "      <th>Sociedad</th>\n",
       "      <th>País</th>\n",
       "      <th>División</th>\n",
       "      <th>Moneda</th>\n",
       "      <th>Anio</th>\n",
       "      <th>CodCliente</th>\n",
       "      <th>Cliente</th>\n",
       "      <th>CodConsultor</th>\n",
       "      <th>Consultor</th>\n",
       "      <th>...</th>\n",
       "      <th>MB Mar</th>\n",
       "      <th>MB Abr</th>\n",
       "      <th>MB May</th>\n",
       "      <th>MB Jun</th>\n",
       "      <th>MB Jul</th>\n",
       "      <th>MB Ago</th>\n",
       "      <th>MB Sep</th>\n",
       "      <th>MB Oct</th>\n",
       "      <th>MB Nov</th>\n",
       "      <th>MB Dic</th>\n",
       "    </tr>\n",
       "  </thead>\n",
       "  <tbody>\n",
       "    <tr>\n",
       "      <th>0</th>\n",
       "      <td>Pets</td>\n",
       "      <td>Adiquim</td>\n",
       "      <td>Colombia</td>\n",
       "      <td>Pets</td>\n",
       "      <td>COP</td>\n",
       "      <td>2023</td>\n",
       "      <td>9909722</td>\n",
       "      <td>CLIENTE POTENCIAL</td>\n",
       "      <td>-</td>\n",
       "      <td>-</td>\n",
       "      <td>...</td>\n",
       "      <td>0.512695</td>\n",
       "      <td>0.512695</td>\n",
       "      <td>0.512695</td>\n",
       "      <td>0.512695</td>\n",
       "      <td>0.512695</td>\n",
       "      <td>0.512695</td>\n",
       "      <td>0.512695</td>\n",
       "      <td>0.512695</td>\n",
       "      <td>0.512695</td>\n",
       "      <td>0.512695</td>\n",
       "    </tr>\n",
       "    <tr>\n",
       "      <th>1</th>\n",
       "      <td>Pets</td>\n",
       "      <td>Nutreo</td>\n",
       "      <td>Colombia</td>\n",
       "      <td>Pets</td>\n",
       "      <td>COP</td>\n",
       "      <td>2023</td>\n",
       "      <td>9909722</td>\n",
       "      <td>CLIENTE POTENCIAL</td>\n",
       "      <td>-</td>\n",
       "      <td>-</td>\n",
       "      <td>...</td>\n",
       "      <td>0.285714</td>\n",
       "      <td>0.285714</td>\n",
       "      <td>0.285714</td>\n",
       "      <td>0.285714</td>\n",
       "      <td>0.285714</td>\n",
       "      <td>0.285714</td>\n",
       "      <td>0.285714</td>\n",
       "      <td>0.285714</td>\n",
       "      <td>0.285714</td>\n",
       "      <td>0.285714</td>\n",
       "    </tr>\n",
       "  </tbody>\n",
       "</table>\n",
       "<p>2 rows × 114 columns</p>\n",
       "</div>"
      ],
      "text/plain": [
       "    UEN Sociedad      País División Moneda  Anio  CodCliente  \\\n",
       "0  Pets  Adiquim  Colombia     Pets    COP  2023     9909722   \n",
       "1  Pets   Nutreo  Colombia     Pets    COP  2023     9909722   \n",
       "\n",
       "             Cliente CodConsultor Consultor  ...    MB Mar    MB Abr  \\\n",
       "0  CLIENTE POTENCIAL            -         -  ...  0.512695  0.512695   \n",
       "1  CLIENTE POTENCIAL            -         -  ...  0.285714  0.285714   \n",
       "\n",
       "     MB May    MB Jun    MB Jul    MB Ago    MB Sep    MB Oct    MB Nov  \\\n",
       "0  0.512695  0.512695  0.512695  0.512695  0.512695  0.512695  0.512695   \n",
       "1  0.285714  0.285714  0.285714  0.285714  0.285714  0.285714  0.285714   \n",
       "\n",
       "     MB Dic  \n",
       "0  0.512695  \n",
       "1  0.285714  \n",
       "\n",
       "[2 rows x 114 columns]"
      ]
     },
     "execution_count": 9,
     "metadata": {},
     "output_type": "execute_result"
    }
   ],
   "source": [
    "df"
   ]
  },
  {
   "cell_type": "code",
   "execution_count": null,
   "id": "6979ef37-e104-4f4b-981f-6e0a72e5db48",
   "metadata": {},
   "outputs": [],
   "source": []
  }
 ],
 "metadata": {
  "kernelspec": {
   "display_name": "Python 3 (ipykernel)",
   "language": "python",
   "name": "python3"
  },
  "language_info": {
   "codemirror_mode": {
    "name": "ipython",
    "version": 3
   },
   "file_extension": ".py",
   "mimetype": "text/x-python",
   "name": "python",
   "nbconvert_exporter": "python",
   "pygments_lexer": "ipython3",
   "version": "3.12.4"
  }
 },
 "nbformat": 4,
 "nbformat_minor": 5
}
