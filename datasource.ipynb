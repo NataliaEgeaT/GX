{
 "cells": [
  {
   "cell_type": "code",
   "execution_count": 1,
   "id": "f18c294a-3f0f-4e30-82fd-957e9af72235",
   "metadata": {},
   "outputs": [],
   "source": [
    "import great_expectations as gx"
   ]
  },
  {
   "cell_type": "code",
   "execution_count": 2,
   "id": "788bfd52-82ae-4c82-9ad6-4e5cf6b377d5",
   "metadata": {},
   "outputs": [],
   "source": [
    "context = gx.get_context()"
   ]
  },
  {
   "cell_type": "code",
   "execution_count": 3,
   "id": "550296bf-8a15-4be7-ab03-a683da52906c",
   "metadata": {
    "scrolled": true
   },
   "outputs": [
    {
     "data": {
      "text/plain": [
       "{\n",
       "  \"anonymous_usage_statistics\": {\n",
       "    \"enabled\": true,\n",
       "    \"explicit_url\": false,\n",
       "    \"data_context_id\": \"be373d45-d8eb-4e1a-b257-ab9da32769dc\",\n",
       "    \"usage_statistics_url\": \"https://stats.greatexpectations.io/great_expectations/v1/usage_statistics\",\n",
       "    \"explicit_id\": true\n",
       "  },\n",
       "  \"checkpoint_store_name\": \"checkpoint_store\",\n",
       "  \"config_variables_file_path\": \"uncommitted/config_variables.yml\",\n",
       "  \"config_version\": 3.0,\n",
       "  \"data_docs_sites\": {\n",
       "    \"local_site\": {\n",
       "      \"class_name\": \"SiteBuilder\",\n",
       "      \"show_how_to_buttons\": true,\n",
       "      \"store_backend\": {\n",
       "        \"class_name\": \"TupleFilesystemStoreBackend\",\n",
       "        \"base_directory\": \"uncommitted/data_docs/local_site/\"\n",
       "      },\n",
       "      \"site_index_builder\": {\n",
       "        \"class_name\": \"DefaultSiteIndexBuilder\"\n",
       "      }\n",
       "    }\n",
       "  },\n",
       "  \"datasources\": {},\n",
       "  \"evaluation_parameter_store_name\": \"evaluation_parameter_store\",\n",
       "  \"expectations_store_name\": \"expectations_store\",\n",
       "  \"fluent_datasources\": {},\n",
       "  \"include_rendered_content\": {\n",
       "    \"expectation_validation_result\": false,\n",
       "    \"globally\": false,\n",
       "    \"expectation_suite\": false\n",
       "  },\n",
       "  \"plugins_directory\": \"plugins/\",\n",
       "  \"stores\": {\n",
       "    \"expectations_store\": {\n",
       "      \"class_name\": \"ExpectationsStore\",\n",
       "      \"store_backend\": {\n",
       "        \"class_name\": \"TupleFilesystemStoreBackend\",\n",
       "        \"base_directory\": \"expectations/\"\n",
       "      }\n",
       "    },\n",
       "    \"validations_store\": {\n",
       "      \"class_name\": \"ValidationsStore\",\n",
       "      \"store_backend\": {\n",
       "        \"class_name\": \"TupleFilesystemStoreBackend\",\n",
       "        \"base_directory\": \"uncommitted/validations/\"\n",
       "      }\n",
       "    },\n",
       "    \"evaluation_parameter_store\": {\n",
       "      \"class_name\": \"EvaluationParameterStore\"\n",
       "    },\n",
       "    \"checkpoint_store\": {\n",
       "      \"class_name\": \"CheckpointStore\",\n",
       "      \"store_backend\": {\n",
       "        \"class_name\": \"TupleFilesystemStoreBackend\",\n",
       "        \"suppress_store_backend_id\": true,\n",
       "        \"base_directory\": \"checkpoints/\"\n",
       "      }\n",
       "    },\n",
       "    \"profiler_store\": {\n",
       "      \"class_name\": \"ProfilerStore\",\n",
       "      \"store_backend\": {\n",
       "        \"class_name\": \"TupleFilesystemStoreBackend\",\n",
       "        \"suppress_store_backend_id\": true,\n",
       "        \"base_directory\": \"profilers/\"\n",
       "      }\n",
       "    }\n",
       "  },\n",
       "  \"validations_store_name\": \"validations_store\"\n",
       "}"
      ]
     },
     "execution_count": 3,
     "metadata": {},
     "output_type": "execute_result"
    }
   ],
   "source": [
    "context"
   ]
  },
  {
   "cell_type": "markdown",
   "id": "797dfc4b-a15c-49be-8a85-80af85e8fdf9",
   "metadata": {},
   "source": [
    "## DATASOURCE"
   ]
  },
  {
   "cell_type": "code",
   "execution_count": 4,
   "id": "129a6b7a-32ff-4fb3-9f07-7a22f135d846",
   "metadata": {},
   "outputs": [],
   "source": [
    "data_source_name = \"PptoComercial_2024_Pets\"\n",
    "path_to_data_source = \"./data\""
   ]
  },
  {
   "cell_type": "code",
   "execution_count": 19,
   "id": "7e4ccb75-170d-4a02-b534-19d17acfaaf4",
   "metadata": {},
   "outputs": [],
   "source": [
    "datasource = context.sources.add_or_update_pandas_filesystem(\n",
    "    name= data_source_name,\n",
    "    base_directory=path_to_data_source\n",
    ")"
   ]
  },
  {
   "cell_type": "code",
   "execution_count": 20,
   "id": "773eaad6-28ef-4bda-9348-9355171beba3",
   "metadata": {},
   "outputs": [
    {
     "data": {
      "text/plain": [
       "ExcelAsset(name='ppto_pets', type='excel', id=None, order_by=[], batch_metadata={}, batching_regex=re.compile('.*\\\\.xlsx$'), connect_options={}, splitter=None, sheet_name=0, header=0, index_col=None, usecols=None, dtype=None, true_values=None, false_values=None, skiprows=None, nrows=None, na_values=None, keep_default_na=True, na_filter=True, verbose=False, parse_dates=False, date_format=None, thousands=None, decimal='.', comment=None, skipfooter=0, storage_options=None, dtype_backend=None, engine_kwargs=None)"
      ]
     },
     "execution_count": 20,
     "metadata": {},
     "output_type": "execute_result"
    }
   ],
   "source": [
    "datasource.add_excel_asset(\n",
    "    name=\"ppto_pets\",\n",
    "    batching_regex=r\".*\\.xlsx$\",\n",
    ")"
   ]
  },
  {
   "cell_type": "markdown",
   "id": "f937ad70-21fd-4f76-98da-416274060764",
   "metadata": {},
   "source": [
    "## SUITE"
   ]
  },
  {
   "cell_type": "code",
   "execution_count": 23,
   "id": "b0a16fe5-91dc-4703-9ac0-c52da7f29225",
   "metadata": {},
   "outputs": [],
   "source": [
    "data_asset = context.get_datasource(data_source_name).get_asset('ppto_pets')"
   ]
  },
  {
   "cell_type": "code",
   "execution_count": 24,
   "id": "266ff746-77db-42e3-a623-6ff4724defa7",
   "metadata": {},
   "outputs": [
    {
     "data": {
      "text/plain": [
       "ExcelAsset(name='ppto_pets', type='excel', id=None, order_by=[], batch_metadata={}, batching_regex=re.compile('.*\\\\.xlsx$'), connect_options={}, splitter=None, sheet_name=0, header=0, index_col=None, usecols=None, dtype=None, true_values=None, false_values=None, skiprows=None, nrows=None, na_values=None, keep_default_na=True, na_filter=True, verbose=False, parse_dates=False, date_format=None, thousands=None, decimal='.', comment=None, skipfooter=0, storage_options=None, dtype_backend=None, engine_kwargs=None)"
      ]
     },
     "execution_count": 24,
     "metadata": {},
     "output_type": "execute_result"
    }
   ],
   "source": [
    "data_asset"
   ]
  },
  {
   "cell_type": "markdown",
   "id": "33b0da57-9012-4962-a291-ed0e782f7f00",
   "metadata": {},
   "source": [
    "## BATCH"
   ]
  },
  {
   "cell_type": "code",
   "execution_count": null,
   "id": "1a7c6a78-0a57-4a97-81c8-f51611e4751d",
   "metadata": {},
   "outputs": [],
   "source": []
  }
 ],
 "metadata": {
  "kernelspec": {
   "display_name": "Python 3 (ipykernel)",
   "language": "python",
   "name": "python3"
  },
  "language_info": {
   "codemirror_mode": {
    "name": "ipython",
    "version": 3
   },
   "file_extension": ".py",
   "mimetype": "text/x-python",
   "name": "python",
   "nbconvert_exporter": "python",
   "pygments_lexer": "ipython3",
   "version": "3.12.4"
  }
 },
 "nbformat": 4,
 "nbformat_minor": 5
}
